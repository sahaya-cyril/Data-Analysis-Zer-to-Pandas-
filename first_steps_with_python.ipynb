{
  "nbformat": 4,
  "nbformat_minor": 0,
  "metadata": {
    "kernelspec": {
      "display_name": "Python 3",
      "language": "python",
      "name": "python3"
    },
    "language_info": {
      "codemirror_mode": {
        "name": "ipython",
        "version": 3
      },
      "file_extension": ".py",
      "mimetype": "text/x-python",
      "name": "python",
      "nbconvert_exporter": "python",
      "pygments_lexer": "ipython3",
      "version": "3.8.6"
    },
    "colab": {
      "name": "first-steps-with-python.ipynb",
      "provenance": [],
      "collapsed_sections": [
        "9R18N5asFRdm"
      ]
    }
  },
  "cells": [
    {
      "cell_type": "markdown",
      "metadata": {
        "id": "7Wm-fFXtFRdL"
      },
      "source": [
        "# First Steps with Python and Jupyter \n",
        "\n",
        "![](https://i.imgur.com/gvSnw4A.png)\n",
        "\n",
        "### Part 1 of \"Data Analysis with Python: Zero to Pandas\"\n",
        "\n",
        "This tutorial series is a beginner-friendly introduction to programming and data analysis using the Python programming language. These tutorials take a practical and coding-focused approach. The best way to learn the material is to execute the code and experiment with it yourself.\n"
      ]
    },
    {
      "cell_type": "markdown",
      "metadata": {
        "id": "Cw9zNB_yFRdQ"
      },
      "source": [
        "This tutorial covers the following topics:\n",
        "\n",
        "* Performing arithmetic operations using Python\n",
        "* Solving multi-step problems using variables\n",
        "* Evaluating conditions using Python\n",
        "* Combining conditions with logical operators\n",
        "* Adding text styles using Markdown"
      ]
    },
    {
      "cell_type": "markdown",
      "metadata": {
        "id": "_pSO2OaDFRdQ"
      },
      "source": [
        "## Performing Arithmetic Operations using Python\n",
        "\n",
        "Let's begin by using Python as a calculator. You can write and execute Python using a code cell within Jupyter. \n",
        "\n",
        "> **Working with cells**: To create a new cell within Jupyter, you can select \"Insert > Insert Cell Below\" from the menu bar or just press the \"+\" button on the toolbar. You can also use the keyboard shortcut `Esc+B` to create a new cell. Once a cell is created, click on it to select it. You can then change the cell type to code or markdown (text) using the \"Cell > Cell Type\" menu option. You can also use the keyboard shortcuts `Esc+Y` and `Esc+M`. Double-click a cell to edit the content within the cell. To apply your changes and run a cell, use the \"Cell > Run Cells\" menu option or click the \"Run\" button on the toolbar or just use the keyboard shortcut `Shift+Enter`. You can see a full list of keyboard shortcuts using the \"Help > Keyboard Shortcuts\" menu option.\n",
        "\n",
        "Run the code cells below to perform calculations and view their result. Try changing the numbers and run the modified cells again to see updated results. Can you guess what the `//`, `%`, and `**` operators are used for?"
      ]
    },
    {
      "cell_type": "code",
      "metadata": {
        "id": "yKAtqx6CFRdR",
        "outputId": "e4d5a4fd-0c50-4ef4-b4bf-46a59c3fbb66"
      },
      "source": [
        "2 + 3 + 9"
      ],
      "execution_count": null,
      "outputs": [
        {
          "output_type": "execute_result",
          "data": {
            "text/plain": [
              "14"
            ]
          },
          "metadata": {
            "tags": []
          },
          "execution_count": 1
        }
      ]
    },
    {
      "cell_type": "code",
      "metadata": {
        "id": "soy-rcNvFRdV",
        "outputId": "0b573fd5-06fc-437a-eaec-ba95315165e3"
      },
      "source": [
        "99 - 73"
      ],
      "execution_count": null,
      "outputs": [
        {
          "output_type": "execute_result",
          "data": {
            "text/plain": [
              "26"
            ]
          },
          "metadata": {
            "tags": []
          },
          "execution_count": 2
        }
      ]
    },
    {
      "cell_type": "code",
      "metadata": {
        "scrolled": true,
        "id": "OAT2hxYrFRdW",
        "outputId": "ce201995-5249-44ad-94ef-80b411a56060"
      },
      "source": [
        "23.54 * -1432"
      ],
      "execution_count": null,
      "outputs": [
        {
          "output_type": "execute_result",
          "data": {
            "text/plain": [
              "-33709.28"
            ]
          },
          "metadata": {
            "tags": []
          },
          "execution_count": 3
        }
      ]
    },
    {
      "cell_type": "code",
      "metadata": {
        "id": "0ftg3rj7FRdW",
        "outputId": "73a55b26-6ed4-40f8-8feb-1b1dea970d55"
      },
      "source": [
        "100 / 7"
      ],
      "execution_count": null,
      "outputs": [
        {
          "output_type": "execute_result",
          "data": {
            "text/plain": [
              "14.285714285714286"
            ]
          },
          "metadata": {
            "tags": []
          },
          "execution_count": 4
        }
      ]
    },
    {
      "cell_type": "code",
      "metadata": {
        "id": "TSvRqtlUFRdX",
        "outputId": "506a4156-34fd-4ad3-b5ad-e3205647e069"
      },
      "source": [
        "100 // 7"
      ],
      "execution_count": null,
      "outputs": [
        {
          "output_type": "execute_result",
          "data": {
            "text/plain": [
              "14"
            ]
          },
          "metadata": {
            "tags": []
          },
          "execution_count": 5
        }
      ]
    },
    {
      "cell_type": "code",
      "metadata": {
        "id": "CfrFidixFRdX",
        "outputId": "33cdd0a8-99a8-42d2-d035-4dac9cebf173"
      },
      "source": [
        "100 % 7"
      ],
      "execution_count": null,
      "outputs": [
        {
          "output_type": "execute_result",
          "data": {
            "text/plain": [
              "2"
            ]
          },
          "metadata": {
            "tags": []
          },
          "execution_count": 6
        }
      ]
    },
    {
      "cell_type": "code",
      "metadata": {
        "id": "2xg_Tk-FFRdY",
        "outputId": "442f5346-342e-4d29-d66b-9c573b5ae70c"
      },
      "source": [
        "5 ** 3"
      ],
      "execution_count": null,
      "outputs": [
        {
          "output_type": "execute_result",
          "data": {
            "text/plain": [
              "125"
            ]
          },
          "metadata": {
            "tags": []
          },
          "execution_count": 7
        }
      ]
    },
    {
      "cell_type": "markdown",
      "metadata": {
        "id": "Wq98bmCeFRdY"
      },
      "source": [
        "As you might expect, operators like `/` and `*` take precedence over other operators like `+` and `-` as per mathematical conventions. You can use parentheses, i.e. `(` and `)`, to specify the order in which operations are performed."
      ]
    },
    {
      "cell_type": "code",
      "metadata": {
        "id": "6GULkyncFRdY",
        "outputId": "9ebe89a2-8f53-4c69-b608-512d71088772"
      },
      "source": [
        "((2 + 5) * (17 - 3)) / (4 ** 3)"
      ],
      "execution_count": null,
      "outputs": [
        {
          "output_type": "execute_result",
          "data": {
            "text/plain": [
              "1.53125"
            ]
          },
          "metadata": {
            "tags": []
          },
          "execution_count": 8
        }
      ]
    },
    {
      "cell_type": "markdown",
      "metadata": {
        "id": "rKTle-pxFRdZ"
      },
      "source": [
        "Python supports the following arithmetic operators:\n",
        "\n",
        "| Operator   | Purpose           | Example     | Result    |\n",
        "|------------|-------------------|-------------|-----------|\n",
        "| `+`        | Addition          | `2 + 3`     | `5`       |\n",
        "| `-`        | Subtraction       | `3 - 2`     | `1`       |\n",
        "| `*`        | Multiplication    | `8 * 12`    | `96`      |\n",
        "| `/`        | Division          | `100 / 7`   | `14.28..` |\n",
        "| `//`       | Floor Division    | `100 // 7`  | `14`      |    \n",
        "| `%`        | Modulus/Remainder | `100 % 7`   | `2`       |\n",
        "| `**`       | Exponent          | `5 ** 3`    | `125`     |\n",
        "\n",
        "\n",
        "Try solving some simple problems from this page:\n",
        "https://www.math-only-math.com/worksheet-on-word-problems-on-four-operations.html . \n",
        "\n",
        "You can use the empty cells below and add more cells if required."
      ]
    },
    {
      "cell_type": "code",
      "metadata": {
        "id": "ZI9DbH2HFRdZ"
      },
      "source": [
        ""
      ],
      "execution_count": null,
      "outputs": []
    },
    {
      "cell_type": "code",
      "metadata": {
        "id": "O6HcxOUfFRdZ"
      },
      "source": [
        ""
      ],
      "execution_count": null,
      "outputs": []
    },
    {
      "cell_type": "code",
      "metadata": {
        "id": "8YrUuphZFRdZ"
      },
      "source": [
        ""
      ],
      "execution_count": null,
      "outputs": []
    },
    {
      "cell_type": "code",
      "metadata": {
        "id": "m-MR2rkSFRdZ"
      },
      "source": [
        ""
      ],
      "execution_count": null,
      "outputs": []
    },
    {
      "cell_type": "markdown",
      "metadata": {
        "id": "xyfEtqATFRdZ"
      },
      "source": [
        "## Solving multi-step problems using variables\n",
        "\n",
        "Let's try solving the following word problem using Python: \n",
        "\n",
        "> A grocery store sells a bag of ice for $1.25 and makes a 20% profit. If it sells 500 bags of ice, how much total profit does it make?\n",
        "\n",
        "We can list out the information provided and gradually convert the word problem into a mathematical expression that can be evaluated using Python. \n",
        "\n",
        "*Cost of ice bag ($)* = 1.25\n",
        "\n",
        "*Profit margin* = 20% = .2\n",
        "\n",
        "*Profit per bag ($)* = profit margin * cost of ice bag = .2 * 1.25\n",
        "\n",
        "*No. of bags* = 500\n",
        "\n",
        "*Total profit* = no. of bags * profit per bag = 500 * (.2 * 1.25)"
      ]
    },
    {
      "cell_type": "code",
      "metadata": {
        "colab": {
          "base_uri": "https://localhost:8080/"
        },
        "id": "9-Go6qb2FRda",
        "outputId": "dee907a2-3b20-488d-82e8-6fea6a0cf7da"
      },
      "source": [
        "500 * (.2 * 1.25)"
      ],
      "execution_count": null,
      "outputs": [
        {
          "output_type": "execute_result",
          "data": {
            "text/plain": [
              "125.0"
            ]
          },
          "metadata": {
            "tags": []
          },
          "execution_count": 1
        }
      ]
    },
    {
      "cell_type": "markdown",
      "metadata": {
        "id": "7t5u-w-qFRda"
      },
      "source": [
        "Thus, the grocery store makes a total profit of $125. While this is a reasonable way to solve a problem, it's not entirely clear by looking at the code cell what the numbers represent. We can give names to each of the numbers by creating Python *variables*.\n",
        "\n",
        "> **Variables**: While working with a programming language such as Python, information is stored in *variables*. You can think of variables as containers for storing data. The data stored within a variable is called its *value*."
      ]
    },
    {
      "cell_type": "code",
      "metadata": {
        "id": "f-pNWKfcFRda"
      },
      "source": [
        "cost_of_ice_bag = 1.25"
      ],
      "execution_count": null,
      "outputs": []
    },
    {
      "cell_type": "code",
      "metadata": {
        "id": "5IpiKmyOFRda"
      },
      "source": [
        "profit_margin = .2"
      ],
      "execution_count": null,
      "outputs": []
    },
    {
      "cell_type": "code",
      "metadata": {
        "id": "yJJNUrjHFRda"
      },
      "source": [
        "number_of_bags = 500"
      ],
      "execution_count": null,
      "outputs": []
    },
    {
      "cell_type": "markdown",
      "metadata": {
        "id": "NPwUpV-dFRdb"
      },
      "source": [
        "The variables `cost_of_ice_bag`, `profit_margin`, and `number_of_bags` now contain the information provided in the word problem. We can check the value of a variable by typing its name into a cell. We can combine variables using arithmetic operations to create other variables.\n",
        "\n",
        "> **Code completion**: While typing the name of an existing variable in a code cell within Jupyter, just type the first few characters and press the `Tab` key to autocomplete the variable's name. Try typing `pro` in a code cell below and press `Tab` to autocomplete to `profit_margin`."
      ]
    },
    {
      "cell_type": "code",
      "metadata": {
        "colab": {
          "base_uri": "https://localhost:8080/"
        },
        "id": "ipbQUL0jFRdb",
        "outputId": "eec2f3c1-71e1-4f13-b28c-5525973e5998"
      },
      "source": [
        "profit_margin"
      ],
      "execution_count": null,
      "outputs": [
        {
          "output_type": "execute_result",
          "data": {
            "text/plain": [
              "0.2"
            ]
          },
          "metadata": {
            "tags": []
          },
          "execution_count": 5
        }
      ]
    },
    {
      "cell_type": "code",
      "metadata": {
        "id": "baF_dEPdFRdb"
      },
      "source": [
        "profit_per_bag = cost_of_ice_bag * profit_margin"
      ],
      "execution_count": null,
      "outputs": []
    },
    {
      "cell_type": "code",
      "metadata": {
        "colab": {
          "base_uri": "https://localhost:8080/"
        },
        "id": "f291_ZQtFRdb",
        "outputId": "969548c3-12a9-472f-9ea4-806b38c4ce79"
      },
      "source": [
        "profit_per_bag"
      ],
      "execution_count": null,
      "outputs": [
        {
          "output_type": "execute_result",
          "data": {
            "text/plain": [
              "0.25"
            ]
          },
          "metadata": {
            "tags": []
          },
          "execution_count": 7
        }
      ]
    },
    {
      "cell_type": "code",
      "metadata": {
        "id": "gRZuy8JlFRdc"
      },
      "source": [
        "total_profit = number_of_bags * profit_per_bag"
      ],
      "execution_count": null,
      "outputs": []
    },
    {
      "cell_type": "code",
      "metadata": {
        "colab": {
          "base_uri": "https://localhost:8080/"
        },
        "id": "UyYCCg_zFRdc",
        "outputId": "c9078401-bc86-4f32-ab2a-5e727fc4410d"
      },
      "source": [
        "total_profit"
      ],
      "execution_count": null,
      "outputs": [
        {
          "output_type": "execute_result",
          "data": {
            "text/plain": [
              "125.0"
            ]
          },
          "metadata": {
            "tags": []
          },
          "execution_count": 9
        }
      ]
    },
    {
      "cell_type": "markdown",
      "metadata": {
        "id": "eNnCuayjFRdc"
      },
      "source": [
        "If you try to view the value of a variable that has not been *defined*, i.e., given a value using the assignment statement `variable_name = value`, Python shows an error."
      ]
    },
    {
      "cell_type": "code",
      "metadata": {
        "colab": {
          "base_uri": "https://localhost:8080/",
          "height": 162
        },
        "id": "Ry02HYS5FRdd",
        "outputId": "24bc8fee-755f-4b57-b0e9-3ba375a8f2ba"
      },
      "source": [
        "net_profit"
      ],
      "execution_count": null,
      "outputs": [
        {
          "output_type": "error",
          "ename": "NameError",
          "evalue": "ignored",
          "traceback": [
            "\u001b[0;31m---------------------------------------------------------------------------\u001b[0m",
            "\u001b[0;31mNameError\u001b[0m                                 Traceback (most recent call last)",
            "\u001b[0;32m<ipython-input-10-5eb2b296f798>\u001b[0m in \u001b[0;36m<module>\u001b[0;34m()\u001b[0m\n\u001b[0;32m----> 1\u001b[0;31m \u001b[0mnet_profit\u001b[0m\u001b[0;34m\u001b[0m\u001b[0;34m\u001b[0m\u001b[0m\n\u001b[0m",
            "\u001b[0;31mNameError\u001b[0m: name 'net_profit' is not defined"
          ]
        }
      ]
    },
    {
      "cell_type": "markdown",
      "metadata": {
        "id": "lLikkRAFFRdd"
      },
      "source": [
        "Storing and manipulating data using appropriately named variables is a great way to explain what your code does.\n",
        "\n",
        "Let's display the result of the word problem using a friendly message. We can do this using the `print` *function*.\n",
        "\n",
        "> **Functions**: A function is a reusable set of instructions. It takes one or more inputs, performs certain operations, and often returns an output. Python provides many in-built functions like `print` and also allows us to define our own functions."
      ]
    },
    {
      "cell_type": "code",
      "metadata": {
        "id": "SBdjqrBLFRdd"
      },
      "source": [
        "print(\"The grocery store makes a total profit of $\", total_profit)"
      ],
      "execution_count": null,
      "outputs": []
    },
    {
      "cell_type": "markdown",
      "metadata": {
        "id": "ZqQxXCQdFRde"
      },
      "source": [
        "> **`print`**: The `print` function is used to display information. It takes one or more inputs, which can be text (within quotes, e.g., `\"this is some text\"`), numbers, variables, mathematical expressions, etc. We'll learn more about variables & functions in the next tutorial.\n",
        "\n",
        "Creating a code cell for each variable or mathematical operation can get tedious. Fortunately, Jupyter allows you to write multiple lines of code within a single code cell. The result of the last line of code within the cell is displayed as the output. \n",
        "\n",
        "Let's rewrite the solution to our word problem within a single cell."
      ]
    },
    {
      "cell_type": "code",
      "metadata": {
        "id": "ltvFU1fhFRde"
      },
      "source": [
        "# Store input data in variables\n",
        "cost_of_ice_bag = 1.25\n",
        "profit_margin = .2\n",
        "number_of_bags = 500\n",
        "\n",
        "# Perform the required calculations\n",
        "profit_per_bag = cost_of_ice_bag * profit_margin\n",
        "total_profit = number_of_bags * profit_per_bag\n",
        "\n",
        "# Display the result\n",
        "print(\"The grocery store makes a total profit of $\", total_profit)"
      ],
      "execution_count": null,
      "outputs": []
    },
    {
      "cell_type": "markdown",
      "metadata": {
        "id": "9YKcdsQUFRde"
      },
      "source": [
        "Note that we're using the `#` character to add *comments* within our code. \n",
        "\n",
        "> **Comments**: Comments and blank lines are ignored during execution, but they are useful for providing information to humans (including yourself) about what the code does. Comments can be inline (at the end of some code), on a separate line, or even span multiple lines. \n",
        "\n",
        "Inline and single-line comments start with `#`, whereas multi-line comments begin and end with three quotes, i.e. `\"\"\"`. Here are some examples of code comments:"
      ]
    },
    {
      "cell_type": "code",
      "metadata": {
        "id": "gDpiCZo1FRde"
      },
      "source": [
        "my_favorite_number = 1 # an inline comment"
      ],
      "execution_count": null,
      "outputs": []
    },
    {
      "cell_type": "code",
      "metadata": {
        "id": "th94fWWKFRdf"
      },
      "source": [
        "# This comment gets its own line\n",
        "my_least_favorite_number = 3"
      ],
      "execution_count": null,
      "outputs": []
    },
    {
      "cell_type": "code",
      "metadata": {
        "id": "F10SFoAGFRdf"
      },
      "source": [
        "\"\"\"This is a multi-line comment.\n",
        "Write as little or as much as you'd like.\n",
        "\n",
        "Comments are really helpful for people reading\n",
        "your code, but try to keep them short & to-the-point.\n",
        "\n",
        "Also, if you use good variable names, then your code is\n",
        "often self explanatory, and you may not even need comments!\n",
        "\"\"\"\n",
        "a_neutral_number = 5"
      ],
      "execution_count": null,
      "outputs": []
    },
    {
      "cell_type": "markdown",
      "metadata": {
        "id": "YikP6ceBFRdf"
      },
      "source": [
        "## Evaluating conditions using Python\n",
        "\n",
        "Apart from arithmetic operations, Python also provides several operations for comparing numbers & variables.\n",
        "\n",
        "| Operator    | Description                                                     |\n",
        "|-------------|-----------------------------------------------------------------|\n",
        "| `==`        | Check if operands are equal                                     |\n",
        "| `!=`        | Check if operands are not equal                                 |\n",
        "| `>`         | Check if left operand is greater than right operand             |\n",
        "| `<`         | Check if left operand is less than right operand                |\n",
        "| `>=`        | Check if left operand is greater than or equal to right operand |\n",
        "| `<=`        | Check if left operand is less than or equal to right operand    |\n",
        "\n",
        "The result of a comparison operation is either `True` or `False` (note the uppercase `T` and `F`). These are special keywords in Python. Let's try out some experiments with comparison operators."
      ]
    },
    {
      "cell_type": "code",
      "metadata": {
        "id": "Mt1fmGPaFRdf"
      },
      "source": [
        "my_favorite_number = 1\n",
        "my_least_favorite_number = 5\n",
        "a_neutral_number = 3"
      ],
      "execution_count": null,
      "outputs": []
    },
    {
      "cell_type": "code",
      "metadata": {
        "id": "A6bjvDBPFRdf",
        "outputId": "e1259d50-57fe-4174-90fb-fdcdc4c8258f"
      },
      "source": [
        "# Equality check - True\n",
        "my_favorite_number == 1"
      ],
      "execution_count": null,
      "outputs": [
        {
          "output_type": "execute_result",
          "data": {
            "text/plain": [
              "True"
            ]
          },
          "metadata": {
            "tags": []
          },
          "execution_count": 25
        }
      ]
    },
    {
      "cell_type": "code",
      "metadata": {
        "id": "wfnvQHjGFRdf",
        "outputId": "67a67693-ba27-4fa5-9b70-553999eb92ab"
      },
      "source": [
        "# Equality check - False\n",
        "my_favorite_number == my_least_favorite_number"
      ],
      "execution_count": null,
      "outputs": [
        {
          "output_type": "execute_result",
          "data": {
            "text/plain": [
              "False"
            ]
          },
          "metadata": {
            "tags": []
          },
          "execution_count": 26
        }
      ]
    },
    {
      "cell_type": "code",
      "metadata": {
        "id": "KagyH-K0FRdf",
        "outputId": "68bb5f8a-34be-4dd3-8ad0-cda3dc8c61cc"
      },
      "source": [
        "# Not equal check - True\n",
        "my_favorite_number != a_neutral_number"
      ],
      "execution_count": null,
      "outputs": [
        {
          "output_type": "execute_result",
          "data": {
            "text/plain": [
              "True"
            ]
          },
          "metadata": {
            "tags": []
          },
          "execution_count": 27
        }
      ]
    },
    {
      "cell_type": "code",
      "metadata": {
        "id": "BViyX_YFFRdg",
        "outputId": "e2c7a8e0-c656-43dc-b50d-7e37d43d16eb"
      },
      "source": [
        "# Not equal check - False\n",
        "a_neutral_number != 3"
      ],
      "execution_count": null,
      "outputs": [
        {
          "output_type": "execute_result",
          "data": {
            "text/plain": [
              "False"
            ]
          },
          "metadata": {
            "tags": []
          },
          "execution_count": 28
        }
      ]
    },
    {
      "cell_type": "code",
      "metadata": {
        "id": "Uc1ZkLlVFRdg",
        "outputId": "97a9e1c1-8834-4f43-c2b4-52c2ed485a10"
      },
      "source": [
        "# Greater than check - True\n",
        "my_least_favorite_number > a_neutral_number"
      ],
      "execution_count": null,
      "outputs": [
        {
          "output_type": "execute_result",
          "data": {
            "text/plain": [
              "True"
            ]
          },
          "metadata": {
            "tags": []
          },
          "execution_count": 29
        }
      ]
    },
    {
      "cell_type": "code",
      "metadata": {
        "id": "ZC15RPrjFRdh",
        "outputId": "f2d698d1-ae8a-4172-f152-a15532debb84"
      },
      "source": [
        "# Greater than check - False\n",
        "my_favorite_number > my_least_favorite_number"
      ],
      "execution_count": null,
      "outputs": [
        {
          "output_type": "execute_result",
          "data": {
            "text/plain": [
              "False"
            ]
          },
          "metadata": {
            "tags": []
          },
          "execution_count": 30
        }
      ]
    },
    {
      "cell_type": "code",
      "metadata": {
        "id": "cnWLHZZJFRdh",
        "outputId": "cdd9f62a-d803-45e1-ef85-4e00c732ce92"
      },
      "source": [
        "# Less than check - True\n",
        "my_favorite_number < 10"
      ],
      "execution_count": null,
      "outputs": [
        {
          "output_type": "execute_result",
          "data": {
            "text/plain": [
              "True"
            ]
          },
          "metadata": {
            "tags": []
          },
          "execution_count": 31
        }
      ]
    },
    {
      "cell_type": "code",
      "metadata": {
        "id": "M7q619QmFRdh",
        "outputId": "da9cf2f5-06bc-413f-83b9-897368c9e066"
      },
      "source": [
        "# Less than check - False\n",
        "my_least_favorite_number < my_favorite_number"
      ],
      "execution_count": null,
      "outputs": [
        {
          "output_type": "execute_result",
          "data": {
            "text/plain": [
              "False"
            ]
          },
          "metadata": {
            "tags": []
          },
          "execution_count": 32
        }
      ]
    },
    {
      "cell_type": "code",
      "metadata": {
        "id": "wlwXija-FRdi",
        "outputId": "072418aa-7928-40c0-dd3c-360f69e26cd1"
      },
      "source": [
        "# Greater than or equal check - True\n",
        "my_favorite_number >= 1"
      ],
      "execution_count": null,
      "outputs": [
        {
          "output_type": "execute_result",
          "data": {
            "text/plain": [
              "True"
            ]
          },
          "metadata": {
            "tags": []
          },
          "execution_count": 33
        }
      ]
    },
    {
      "cell_type": "code",
      "metadata": {
        "id": "zoDRkqxkFRdi",
        "outputId": "e7a94953-418f-42b1-e027-a265af6e0688"
      },
      "source": [
        "# Greater than or equal check - False\n",
        "my_favorite_number >= 3"
      ],
      "execution_count": null,
      "outputs": [
        {
          "output_type": "execute_result",
          "data": {
            "text/plain": [
              "False"
            ]
          },
          "metadata": {
            "tags": []
          },
          "execution_count": 34
        }
      ]
    },
    {
      "cell_type": "code",
      "metadata": {
        "id": "M9qbBmmSFRdi",
        "outputId": "dea04a16-f606-4193-c11d-c206ca9ebeaa"
      },
      "source": [
        "# Less than or equal check - True\n",
        "3 + 6 <= 9"
      ],
      "execution_count": null,
      "outputs": [
        {
          "output_type": "execute_result",
          "data": {
            "text/plain": [
              "True"
            ]
          },
          "metadata": {
            "tags": []
          },
          "execution_count": 35
        }
      ]
    },
    {
      "cell_type": "code",
      "metadata": {
        "id": "FbdPG-0MFRdi",
        "outputId": "952a8773-5c69-4fed-847e-dfeae691333e"
      },
      "source": [
        "# Less than or equal check - False\n",
        "my_favorite_number + a_neutral_number <= 3"
      ],
      "execution_count": null,
      "outputs": [
        {
          "output_type": "execute_result",
          "data": {
            "text/plain": [
              "False"
            ]
          },
          "metadata": {
            "tags": []
          },
          "execution_count": 36
        }
      ]
    },
    {
      "cell_type": "markdown",
      "metadata": {
        "id": "u2OOealPFRdi"
      },
      "source": [
        "Just like arithmetic operations, the result of a comparison operation can also be stored in a variable."
      ]
    },
    {
      "cell_type": "code",
      "metadata": {
        "id": "vB5TyVbYFRdi",
        "outputId": "62cbcd84-a1d7-4f50-879e-d3a4d06a52d5"
      },
      "source": [
        "cost_of_ice_bag = 1.25\n",
        "is_ice_bag_expensive = cost_of_ice_bag >= 10\n",
        "print(\"Is the ice bag expensive?\", is_ice_bag_expensive)"
      ],
      "execution_count": null,
      "outputs": [
        {
          "output_type": "stream",
          "text": [
            "Is the ice bag expensive? False\n"
          ],
          "name": "stdout"
        }
      ]
    },
    {
      "cell_type": "markdown",
      "metadata": {
        "id": "IwgGahL1FRdi"
      },
      "source": [
        "## Combining conditions with logical operators\n",
        "\n",
        "The logical operators `and`, `or` and `not` operate upon conditions and `True` & `False` values (also known as *booleans*). `and` and `or` operate on two conditions, whereas `not` operates on a single condition.\n",
        "\n",
        "The `and` operator returns `True` when both the conditions evaluate to `True`. Otherwise, it returns `False`.\n",
        "\n",
        "| `a`     | `b`    | `a and b` |\n",
        "|---------|--------|-----------|\n",
        "|  `True` | `True` | `True`    |\n",
        "|  `True` | `False`| `False`   |\n",
        "|  `False`| `True` | `False`   |\n",
        "|  `False`| `False`| `False`   |\n"
      ]
    },
    {
      "cell_type": "code",
      "metadata": {
        "scrolled": true,
        "id": "yM1PlN-KFRdi",
        "outputId": "85480a18-4b40-4788-bb3d-b306fc8508b6"
      },
      "source": [
        "my_favorite_number"
      ],
      "execution_count": null,
      "outputs": [
        {
          "output_type": "execute_result",
          "data": {
            "text/plain": [
              "1"
            ]
          },
          "metadata": {
            "tags": []
          },
          "execution_count": 38
        }
      ]
    },
    {
      "cell_type": "code",
      "metadata": {
        "id": "jVRJiCvDFRdj",
        "outputId": "9382473e-820f-4229-92da-503c69fd5c40"
      },
      "source": [
        "my_favorite_number > 0 and my_favorite_number <= 3"
      ],
      "execution_count": null,
      "outputs": [
        {
          "output_type": "execute_result",
          "data": {
            "text/plain": [
              "True"
            ]
          },
          "metadata": {
            "tags": []
          },
          "execution_count": 39
        }
      ]
    },
    {
      "cell_type": "code",
      "metadata": {
        "id": "KIG_OV5OFRdj",
        "outputId": "8a492151-0f69-4f93-9ace-a74111bbf66d"
      },
      "source": [
        "my_favorite_number < 0 and my_favorite_number <= 3"
      ],
      "execution_count": null,
      "outputs": [
        {
          "output_type": "execute_result",
          "data": {
            "text/plain": [
              "False"
            ]
          },
          "metadata": {
            "tags": []
          },
          "execution_count": 40
        }
      ]
    },
    {
      "cell_type": "code",
      "metadata": {
        "id": "ouEtBuCuFRdj",
        "outputId": "e745e6f5-9af3-47f3-9877-77c96a1fabeb"
      },
      "source": [
        "my_favorite_number > 0 and my_favorite_number >= 3"
      ],
      "execution_count": null,
      "outputs": [
        {
          "output_type": "execute_result",
          "data": {
            "text/plain": [
              "False"
            ]
          },
          "metadata": {
            "tags": []
          },
          "execution_count": 41
        }
      ]
    },
    {
      "cell_type": "code",
      "metadata": {
        "id": "CXDGsRABFRdj",
        "outputId": "d130d45f-f04f-4a95-e05b-0514f76d9d9f"
      },
      "source": [
        "True and False"
      ],
      "execution_count": null,
      "outputs": [
        {
          "output_type": "execute_result",
          "data": {
            "text/plain": [
              "False"
            ]
          },
          "metadata": {
            "tags": []
          },
          "execution_count": 42
        }
      ]
    },
    {
      "cell_type": "code",
      "metadata": {
        "id": "SafC-DnBFRdj",
        "outputId": "b2d8d08a-f19a-49d8-e4f3-63f371776b72"
      },
      "source": [
        "True and True"
      ],
      "execution_count": null,
      "outputs": [
        {
          "output_type": "execute_result",
          "data": {
            "text/plain": [
              "True"
            ]
          },
          "metadata": {
            "tags": []
          },
          "execution_count": 43
        }
      ]
    },
    {
      "cell_type": "markdown",
      "metadata": {
        "id": "8p1Mc_XpFRdj"
      },
      "source": [
        "The `or` operator returns `True` if at least one of the conditions evaluates to `True`. It returns `False` only if both conditions are `False`.\n",
        "\n",
        "| `a`     | `b`    | `a or b`  |\n",
        "|---------|--------|-----------|\n",
        "|  `True` | `True` | `True`    |\n",
        "|  `True` | `False`| `True`    |\n",
        "|  `False`| `True` | `True`    |\n",
        "|  `False`| `False`| `False`   |\n",
        "\n"
      ]
    },
    {
      "cell_type": "code",
      "metadata": {
        "id": "b7vkecDqFRdj"
      },
      "source": [
        "a_neutral_number = 3"
      ],
      "execution_count": null,
      "outputs": []
    },
    {
      "cell_type": "code",
      "metadata": {
        "id": "ih99Eg2bFRdj",
        "outputId": "801e8962-7bba-47e4-b2a1-9ad9c6908542"
      },
      "source": [
        "a_neutral_number == 3 or my_favorite_number < 0"
      ],
      "execution_count": null,
      "outputs": [
        {
          "output_type": "execute_result",
          "data": {
            "text/plain": [
              "True"
            ]
          },
          "metadata": {
            "tags": []
          },
          "execution_count": 45
        }
      ]
    },
    {
      "cell_type": "code",
      "metadata": {
        "id": "UTSN9FFLFRdk",
        "outputId": "831a8c27-f08a-481b-fb74-fd71f580cfbe"
      },
      "source": [
        "a_neutral_number != 3 or my_favorite_number < 0"
      ],
      "execution_count": null,
      "outputs": [
        {
          "output_type": "execute_result",
          "data": {
            "text/plain": [
              "False"
            ]
          },
          "metadata": {
            "tags": []
          },
          "execution_count": 46
        }
      ]
    },
    {
      "cell_type": "code",
      "metadata": {
        "id": "XkbpNzP1FRdk",
        "outputId": "21ad58c2-f47b-47ca-9256-5e678045e7b7"
      },
      "source": [
        "my_favorite_number < 0 or True"
      ],
      "execution_count": null,
      "outputs": [
        {
          "output_type": "execute_result",
          "data": {
            "text/plain": [
              "True"
            ]
          },
          "metadata": {
            "tags": []
          },
          "execution_count": 47
        }
      ]
    },
    {
      "cell_type": "code",
      "metadata": {
        "id": "R7Cwk5NvFRdk",
        "outputId": "1f7f481f-031d-41d4-c230-9d548d698559"
      },
      "source": [
        "False or False"
      ],
      "execution_count": null,
      "outputs": [
        {
          "output_type": "execute_result",
          "data": {
            "text/plain": [
              "False"
            ]
          },
          "metadata": {
            "tags": []
          },
          "execution_count": 48
        }
      ]
    },
    {
      "cell_type": "markdown",
      "metadata": {
        "id": "mxTh-NFGFRdk"
      },
      "source": [
        "The `not` operator returns `False` if a condition is `True` and `True` if the condition is `False`."
      ]
    },
    {
      "cell_type": "code",
      "metadata": {
        "id": "6T7SGEcmFRdk",
        "outputId": "1b6c1b40-0eb3-44cd-fbc5-728566f12802"
      },
      "source": [
        "not a_neutral_number == 3"
      ],
      "execution_count": null,
      "outputs": [
        {
          "output_type": "execute_result",
          "data": {
            "text/plain": [
              "False"
            ]
          },
          "metadata": {
            "tags": []
          },
          "execution_count": 49
        }
      ]
    },
    {
      "cell_type": "code",
      "metadata": {
        "id": "PDfj0e9ZFRdl",
        "outputId": "c221faf6-bdb9-4b07-e3c3-db2e7a059c2d"
      },
      "source": [
        "not my_favorite_number < 0"
      ],
      "execution_count": null,
      "outputs": [
        {
          "output_type": "execute_result",
          "data": {
            "text/plain": [
              "True"
            ]
          },
          "metadata": {
            "tags": []
          },
          "execution_count": 50
        }
      ]
    },
    {
      "cell_type": "code",
      "metadata": {
        "id": "VBPWXY_UFRdl",
        "outputId": "a9f338aa-f0cc-41c9-e723-9f63599d4778"
      },
      "source": [
        "not False"
      ],
      "execution_count": null,
      "outputs": [
        {
          "output_type": "execute_result",
          "data": {
            "text/plain": [
              "True"
            ]
          },
          "metadata": {
            "tags": []
          },
          "execution_count": 51
        }
      ]
    },
    {
      "cell_type": "code",
      "metadata": {
        "id": "VkdnESt5FRdl",
        "outputId": "9b4f5424-7dc5-468d-f420-d55be36933af"
      },
      "source": [
        "not True"
      ],
      "execution_count": null,
      "outputs": [
        {
          "output_type": "execute_result",
          "data": {
            "text/plain": [
              "False"
            ]
          },
          "metadata": {
            "tags": []
          },
          "execution_count": 52
        }
      ]
    },
    {
      "cell_type": "markdown",
      "metadata": {
        "id": "TWGzcexPFRdl"
      },
      "source": [
        "Logical operators can be combined to form complex conditions. Use round brackets or parentheses `(` and `)` to indicate the order in which logical operators should be applied."
      ]
    },
    {
      "cell_type": "code",
      "metadata": {
        "id": "ACCl5dSTFRdl",
        "outputId": "540a7a81-aac9-4a0e-d0ec-e8c11f100ca9"
      },
      "source": [
        "(2 > 3 and 4 <= 5) or not (my_favorite_number < 0 and True)"
      ],
      "execution_count": null,
      "outputs": [
        {
          "output_type": "execute_result",
          "data": {
            "text/plain": [
              "True"
            ]
          },
          "metadata": {
            "tags": []
          },
          "execution_count": 53
        }
      ]
    },
    {
      "cell_type": "code",
      "metadata": {
        "id": "19ELwFslFRdm",
        "outputId": "e5bf2d9a-62ce-4197-ae42-3d174737d690"
      },
      "source": [
        "not (True and 0 < 1) or (False and True)"
      ],
      "execution_count": null,
      "outputs": [
        {
          "output_type": "execute_result",
          "data": {
            "text/plain": [
              "False"
            ]
          },
          "metadata": {
            "tags": []
          },
          "execution_count": 54
        }
      ]
    },
    {
      "cell_type": "markdown",
      "metadata": {
        "id": "7WvsVLH7FRdm"
      },
      "source": [
        "If parentheses are not used, logical operators are applied from left to right."
      ]
    },
    {
      "cell_type": "code",
      "metadata": {
        "id": "geUHbHN7FRdm",
        "outputId": "b24af0a8-301b-4c1b-8ac1-4848e8ee0312"
      },
      "source": [
        "not True and 0 < 1 or False and True"
      ],
      "execution_count": null,
      "outputs": [
        {
          "output_type": "execute_result",
          "data": {
            "text/plain": [
              "False"
            ]
          },
          "metadata": {
            "tags": []
          },
          "execution_count": 55
        }
      ]
    },
    {
      "cell_type": "markdown",
      "metadata": {
        "id": "b-uG8wSZFRdm"
      },
      "source": [
        "Experiment with arithmetic, conditional and logical operators in Python using the interactive nature of Jupyter notebooks. We will learn more about variables and functions in future tutorials."
      ]
    },
    {
      "cell_type": "markdown",
      "metadata": {
        "id": "JNUOrizVFRdm"
      },
      "source": [
        "## Adding text styles using Markdown\n",
        "\n",
        "Adding explanations using text cells (like this one) is a great way to make your notebook informative for other readers. It is also useful if you need to refer back to it in the future. You can double click on a text cell within Jupyter to edit it. In the edit mode, you'll notice that the text looks slightly different (for instance, the heading has a `##` prefix. This text is written using Markdown, a simple way to add styles to your text. Execute this cell to see the output without the special characters. You can switch back and forth between the source and the output to apply a specific style.\n",
        "\n",
        "For instance, you can use one or more `#` characters at the start of a line to create headers of different sizes:\n",
        "\n",
        "# Header 1\n",
        "\n",
        "## Header 2\n",
        "\n",
        "### Header 3\n",
        "\n",
        "#### Header 4\n",
        "\n",
        "To create a bulleted or numbered list, simply start a line with `*` or `1.`.\n",
        "\n",
        "A bulleted list:\n",
        "\n",
        "* Item 1\n",
        "* Item 2\n",
        "* Item 3\n",
        "\n",
        "A numbered list:\n",
        "\n",
        "1. Apple\n",
        "2. Banana\n",
        "3. Pineapple\n",
        "\n",
        "You can make some text bold using `**`, e.g., **some bold text**, or make it italic using `*`, e.g., *some italic text.* You can also create links, e.g., [a link](https://google.com).\n",
        "\n",
        "Another really nice feature of Markdown is the ability to include blocks of code. Note that code blocks inside Markdown cells cannot be executed.\n",
        "\n",
        "```\n",
        "# Perform the required calculations\n",
        "profit_per_bag = cost_of_ice_bag * profit_margin\n",
        "total_profit = number_of_bags * profit_per_bag\n",
        "\n",
        "# Display the result\n",
        "print(\"The grocery store makes a total profit of $\", total_profit)\n",
        "\n",
        "```\n",
        "\n",
        "You can learn the full syntax of Markdown here: https://learnxinyminutes.com/docs/markdown/"
      ]
    },
    {
      "cell_type": "markdown",
      "metadata": {
        "id": "9R18N5asFRdm"
      },
      "source": [
        "## Questions for Revision\n",
        "\n",
        "Try answering the following questions to test your understanding of the topics covered in this notebook:\n",
        "\n",
        "1. What is a Jupyter notebook? \n",
        "2. How do you add a new code cell below an existing cell?\n",
        "3. How do you add a new Markdown cell below an existing cell?\n",
        "4. How do you convert a code cell to a Markdown cell or vice versa?\n",
        "5. How do you execute a code cell within Jupyter?\n",
        "6. What the different arithmetic operations supported in Python?\n",
        "7. How do you perform arithmetic operations using Python?\n",
        "8. What is the difference between the `/` and the `//` operators?\n",
        "9. What is the difference between the `*` and the `**` operators?\n",
        "10. What is the order of precedence for arithmetic operators in Python?\n",
        "11. How do you specify the order in which arithmetic operations are performed in an expression involving multiple operators?\n",
        "12. How do you solve a multi-step arithmetic word problem using Python?\n",
        "13. What are variables? Why are they useful?\n",
        "14. How do you create a variable in Python?\n",
        "15. What is the assignment operator in Python?\n",
        "16. What are the rules for naming a variable in Python?\n",
        "17. How do you view the value of a variable?\n",
        "18. How do you store the result of an arithmetic expression in a variable?\n",
        "19. What happens if you try to access a variable that has not been defined?\n",
        "20. How do you display messages in Python?\n",
        "21. What types of inputs can the print function accept?\n",
        "22. What are code comments? How are they useful?\n",
        "23. What are the different ways of creating comments in Python code?\n",
        "24. What are the different comparison operations supported in Python?\n",
        "25. What is the result of a comparison operation?\n",
        "26. What is the difference between `=` and `==` in Python?\n",
        "27. What are the logical operators supported in Python?\n",
        "28. What is the difference between the `and` and `or` operators?\n",
        "29. Can you use comparison and logical operators in the same expression?\n",
        "30. What is the purpose of using parentheses in arithmetic or logical expressions?\n",
        "31. What is Markdown? Why is it useful?\n",
        "32. How do you create headings of different sizes using Markdown?\n",
        "33. How do you create bulleted and numbered lists using Markdown?\n",
        "34. How do you create bold or italic text using Markdown?\n",
        "35. How do you include links & images within Markdown cells?\n",
        "36. How do you include code blocks within Markdown cells?\n",
        "37. Is it possible to execute the code blocks within Markdown cells?\n",
        "38. How do you upload and share your Jupyter notebook online using Jovian?\n",
        "39. What is the purpose of the API key requested by jovian.commit ? Where can you find the API key?\n",
        "40. Where can you learn about arithmetic, conditional and logical operations in Python?\n"
      ]
    }
  ]
}



# -*- coding: utf-8 -*-
"""python-numerical-computing-with-numpy.ipynb

Automatically generated by Colaboratory.

Original file is located at
    https://colab.research.google.com/drive/1cydQAdM3IOLifThPAF9zbOsc3ikUQcr8

# Numerical Computing with Python and Numpy

![](https://i.imgur.com/mg8O3kd.png)

### Part 6 of "Data Analysis with Python: Zero to Pandas"


This tutorial series is a beginner-friendly introduction to programming and data analysis using the Python programming language. These tutorials take a practical and coding-focused approach. The best way to learn the material is to execute the code and experiment with it yourself.

This tutorial covers the following topics:

- Working with numerical data in Python
- Going from Python lists to Numpy arrays
- Multi-dimensional Numpy arrays and their benefits
- Array operations, broadcasting, indexing, and slicing
- Working with CSV data files using Numpy

## Working with numerical data

The "data" in *Data Analysis* typically refers to numerical data, e.g., stock prices, sales figures, sensor measurements, sports scores, database tables, etc. The [Numpy](https://numpy.org) library provides specialized data structures, functions, and other tools for numerical computing in Python. Let's work through an example to see why & how to use Numpy for working with numerical data.


> Suppose we want to use climate data like the temperature, rainfall, and humidity to determine if a region is well suited for growing apples. A simple approach for doing this would be to formulate the relationship between the annual yield of apples (tons per hectare) and the climatic conditions like the average temperature (in degrees Fahrenheit), rainfall (in  millimeters) & average relative humidity (in percentage) as a linear equation.
>
> `yield_of_apples = w1 * temperature + w2 * rainfall + w3 * humidity`

We're expressing the yield of apples as a weighted sum of the temperature, rainfall, and humidity. This equation is an approximation since the actual relationship may not necessarily be linear, and there may be other factors involved. But a simple linear model like this often works well in practice.

Based on some statical analysis of historical data, we might come up with reasonable values for the weights `w1`, `w2`, and `w3`. Here's an example set of values:
"""

w1, w2, w3 = 0.3, 0.2, 0.5

"""Given some climate data for a region, we can now predict the yield of apples. Here's some sample data:

<img src="https://i.imgur.com/TXPBiqv.png" style="width:360px;">

To begin, we can define some variables to record climate data for a region.
"""

kanto_temp = 73
kanto_rainfall = 67
kanto_humidity = 43

"""We can now substitute these variables into the linear equation to predict the yield of apples."""

kanto_yield_apples = kanto_temp * w1 + kanto_rainfall * w2 + kanto_humidity * w3
kanto_yield_apples

print("The expected yield of apples in Kanto region is {} tons per hectare.".format(kanto_yield_apples))

"""To make it slightly easier to perform the above computation for multiple regions, we can represent the climate data for each region as a vector, i.e., a list of numbers."""

kanto = [73, 67, 43]
johto = [91, 88, 64]
hoenn = [87, 134, 58]
sinnoh = [102, 43, 37]
unova = [69, 96, 70]

"""The three numbers in each vector represent the temperature, rainfall, and humidity data, respectively. 

We can also represent the set of weights used in the formula as a vector.
"""

weights = [w1, w2, w3]

"""We can now write a function `crop_yield` to calcuate the yield of apples (or any other crop) given the climate data and the respective weights."""

def crop_yield(region, weights):
    result = 0
    for x, w in zip(region, weights):
        result += x * w
    return result

crop_yield(kanto, weights)

crop_yield(johto, weights)

crop_yield(unova, weights)

"""## Going from Python lists to Numpy arrays


The calculation performed by the `crop_yield` (element-wise multiplication of two vectors and taking a sum of the results) is also called the *dot product*. Learn more about dot product here: https://www.khanacademy.org/math/linear-algebra/vectors-and-spaces/dot-cross-products/v/vector-dot-product-and-vector-length . 

The Numpy library provides a built-in function to compute the dot product of two vectors. However, we must first convert the lists into Numpy arrays.

Let's install the Numpy library using the `pip` package manager.
"""

!pip install numpy --upgrade --quiet

"""Next, let's import the `numpy` module. It's common practice to import numpy with the alias `np`."""

import numpy as np

"""We can now use the `np.array` function to create Numpy arrays."""

kanto = np.array([73, 67, 43])

kanto

weights = np.array([w1, w2, w3])

weights

"""Numpy arrays have the type `ndarray`."""

type(kanto)

type(weights)

"""Just like lists, Numpy arrays support the indexing notation `[]`."""

weights[0]

kanto[2]

"""## Operating on Numpy arrays

We can now compute the dot product of the two vectors using the `np.dot` function.
"""

np.dot(kanto, weights)

"""We can achieve the same result with low-level operations supported by Numpy arrays: performing an element-wise multiplication and calculating the resulting numbers' sum."""

(kanto * weights).sum()

"""The `*` operator performs an element-wise multiplication of two arrays if they have the same size. The `sum` method calculates the sum of numbers in an array."""

arr1 = np.array([1, 2, 3])
arr2 = np.array([4, 5, 6])

arr1 * arr2

arr2.sum()

"""## Benefits of using Numpy arrays

Numpy arrays offer the following benefits over Python lists for operating on numerical data:

- **Ease of use**: You can write small, concise, and intuitive mathematical expressions like `(kanto * weights).sum()` rather than using loops & custom functions like `crop_yield`.
- **Performance**: Numpy operations and functions are implemented internally in C++, which makes them much faster than using Python statements & loops that are interpreted at runtime

Here's a comparison of dot products performed using Python loops vs. Numpy arrays on two vectors with a million elements each.
"""

# Python lists
arr1 = list(range(1000000))
arr2 = list(range(1000000, 2000000))

# Numpy arrays
arr1_np = np.array(arr1)
arr2_np = np.array(arr2)

# Commented out IPython magic to ensure Python compatibility.
# %%time
# result = 0
# for x1, x2 in zip(arr1, arr2):
#     result += x1*x2
# result

# Commented out IPython magic to ensure Python compatibility.
# %%time
# np.dot(arr1_np, arr2_np)

"""As you can see, using `np.dot` is 100 times faster than using a `for` loop. This makes Numpy especially useful while working with really large datasets with tens of thousands or millions of data points.

Let's save our work before continuing.
"""

import jovian

jovian.commit()

"""## Multi-dimensional Numpy arrays 

We can now go one step further and represent the climate data for all the regions using a single 2-dimensional Numpy array.
"""

climate_data = np.array([[73, 67, 43],
                         [91, 88, 64],
                         [87, 134, 58],
                         [102, 43, 37],
                         [69, 96, 70]])

climate_data

"""If you've taken a linear algebra class in high school, you may recognize the above 2-d array as a matrix with five rows and three columns. Each row represents one region, and the columns represent temperature, rainfall, and humidity, respectively.

Numpy arrays can have any number of dimensions and different lengths along each dimension. We can inspect the length along each dimension using the `.shape` property of an array.

<img src="https://fgnt.github.io/python_crashkurs_doc/_images/numpy_array_t.png" width="420">


"""

# 2D array (matrix)
climate_data.shape

weights

# 1D array (vector)
weights.shape

# 3D array 
arr3 = np.array([
    [[11, 12, 13], 
     [13, 14, 15]], 
    [[15, 16, 17], 
     [17, 18, 19.5]]])

arr3.shape

"""All the elements in a numpy array have the same data type. You can check the data type of an array using the `.dtype` property."""

weights.dtype

climate_data.dtype

"""If an array contains even a single floating point number, all the other elements are also converted to floats."""

arr3.dtype

"""We can now compute the predicted yields of apples in all the regions, using a single matrix multiplication between `climate_data` (a 5x3 matrix) and `weights` (a vector of length 3). Here's what it looks like visually:

<img src="https://i.imgur.com/LJ2WKSI.png" width="240">

You can learn about matrices and matrix multiplication by watching the first 3-4 videos of this playlist: https://www.youtube.com/watch?v=xyAuNHPsq-g&list=PLFD0EB975BA0CC1E0&index=1 .

We can use the `np.matmul` function or the `@` operator to perform matrix multiplication.
"""

np.matmul(climate_data, weights)

climate_data @ weights

"""## Working with CSV data files

Numpy also provides helper functions reading from & writing to files. Let's download a file `climate.txt`, which contains 10,000 climate measurements (temperature, rainfall & humidity) in the following format:


```
temperature,rainfall,humidity
25.00,76.00,99.00
39.00,65.00,70.00
59.00,45.00,77.00
84.00,63.00,38.00
66.00,50.00,52.00
41.00,94.00,77.00
91.00,57.00,96.00
49.00,96.00,99.00
67.00,20.00,28.00
...
```

This format of storing data is known as *comma-separated values* or CSV. 

> **CSVs**: A comma-separated values (CSV) file is a delimited text file that uses a comma to separate values. Each line of the file is a data record. Each record consists of one or more fields, separated by commas. A CSV file typically stores tabular data (numbers and text) in plain text, in which case each line will have the same number of fields. (Wikipedia)


To read this file into a numpy array, we can use the `genfromtxt` function.
"""

import urllib.request

urllib.request.urlretrieve(
    'https://hub.jovian.ml/wp-content/uploads/2020/08/climate.csv', 
    'climate.txt')

climate_data = np.genfromtxt('climate.txt', delimiter=',', skip_header=1)

climate_data

climate_data.shape

"""We can now perform a matrix multiplication using the `@` operator to predict the yield of apples for the entire dataset using a given set of weights."""

weights = np.array([0.3, 0.2, 0.5])

yields = climate_data @ weights

yields

yields.shape

"""Let's add the `yields` to `climate_data` as a fourth column using the [`np.concatenate`](https://numpy.org/doc/stable/reference/generated/numpy.concatenate.html) function."""

climate_results = np.concatenate((climate_data, yields.reshape(10000, 1)), axis=1)

climate_results

"""There are a couple of subtleties here:

* Since we wish to add new columns, we pass the argument `axis=1` to `np.concatenate`. The `axis` argument specifies the dimension for concatenation.

*  The arrays should have the same number of dimensions, and the same length along each except the dimension used for concatenation. We use the [`np.reshape`](https://numpy.org/doc/stable/reference/generated/numpy.reshape.html) function to change the shape of `yields` from `(10000,)` to `(10000,1)`.

Here's a visual explanation of `np.concatenate` along `axis=1` (can you guess what `axis=0` results in?):

<img src="https://www.w3resource.com/w3r_images/python-numpy-image-exercise-58.png" width="300">

The best way to understand what a Numpy function does is to experiment with it and read the documentation to learn about its arguments & return values. Use the cells below to experiment with `np.concatenate` and `np.reshape`.
"""







"""Let's write the final results from our computation above back to a file using the `np.savetxt` function."""

climate_results

np.savetxt('climate_results.txt', 
           climate_results, 
           fmt='%.2f', 
           delimiter=',',
           header='temperature,rainfall,humidity,yeild_apples', 
           comments='')

"""The results are written back in the CSV format to the file `climate_results.txt`. 

```
temperature,rainfall,humidity,yeild_apples
25.00,76.00,99.00,72.20
39.00,65.00,70.00,59.70
59.00,45.00,77.00,65.20
84.00,63.00,38.00,56.80
...
```

Numpy provides hundreds of functions for performing operations on arrays. Here are some commonly used functions:


* Mathematics: `np.sum`, `np.exp`, `np.round`, arithemtic operators 
* Array manipulation: `np.reshape`, `np.stack`, `np.concatenate`, `np.split`
* Linear Algebra: `np.matmul`, `np.dot`, `np.transpose`, `np.eigvals`
* Statistics: `np.mean`, `np.median`, `np.std`, `np.max`

> **How to find the function you need?** The easiest way to find the right function for a specific operation or use-case is to do a web search. For instance, searching for "How to join numpy arrays" leads to [this tutorial on array concatenation](https://cmdlinetips.com/2018/04/how-to-concatenate-arrays-in-numpy/). 

You can find a full list of array functions here: https://numpy.org/doc/stable/reference/routines.html

### Save and upload your notebook

Whether you're running this Jupyter notebook online or on your computer, it's essential to save your work from time to time. You can continue working on a saved notebook later or share it with friends and colleagues to let them execute your code. [Jovian](https://www.jovian.ai) offers an easy way of saving and sharing your Jupyter notebooks online.
"""

# Install the library
!pip install jovian --upgrade --quiet

import jovian

jovian.commit()

"""The first time you run `jovian.commit`, you'll be asked to provide an API Key to securely upload the notebook to your Jovian account. You can get the API key from your [Jovian profile page](https://jovian.ai) after logging in / signing up.


`jovian.commit` uploads the notebook to your Jovian account, captures the Python environment, and creates a shareable link for your notebook, as shown above. You can use this link to share your work and let anyone (including you) run your notebooks and reproduce your work.

## Arithmetic operations, broadcasting and comparison

Numpy arrays support arithmetic operators like `+`, `-`, `*`, etc. You can perform an arithmetic operation with a single number (also called scalar) or with another array of the same shape. Operators make it easy to write mathematical expressions with multi-dimensional arrays.
"""

arr2 = np.array([[1, 2, 3, 4], 
                 [5, 6, 7, 8], 
                 [9, 1, 2, 3]])

arr3 = np.array([[11, 12, 13, 14], 
                 [15, 16, 17, 18], 
                 [19, 11, 12, 13]])

# Adding a scalar
arr2 + 3

# Element-wise subtraction
arr3 - arr2

# Division by scalar
arr2 / 2

# Element-wise multiplication
arr2 * arr3

# Modulus with scalar
arr2 % 4

"""### Array Broadcasting

Numpy arrays also support *broadcasting*, allowing arithmetic operations between two arrays with different numbers of dimensions but compatible shapes. Let's look at an example to see how it works.
"""

arr2 = np.array([[1, 2, 3, 4], 
                 [5, 6, 7, 8], 
                 [9, 1, 2, 3]])

arr2.shape

arr4 = np.array([4, 5, 6, 7])

arr4.shape

arr2 + arr4

"""When the expression `arr2 + arr4` is evaluated, `arr4` (which has the shape `(4,)`) is replicated three times to match the shape `(3, 4)` of `arr2`. Numpy performs the replication without actually creating three copies of the smaller dimension array, thus improving performance and using lower memory.

<img src="https://jakevdp.github.io/PythonDataScienceHandbook/figures/02.05-broadcasting.png" width="360">

Broadcasting only works if one of the arrays can be replicated to match the other array's shape.
"""

arr5 = np.array([7, 8])

arr5.shape

arr2 + arr5

"""In the above example, even if `arr5` is replicated three times, it will not match the shape of `arr2`. Hence `arr2 + arr5` cannot be evaluated successfully. Learn more about broadcasting here: https://numpy.org/doc/stable/user/basics.broadcasting.html .

### Array Comparison

Numpy arrays also support comparison operations like `==`, `!=`, `>` etc. The result is an array of booleans.
"""

arr1 = np.array([[1, 2, 3], [3, 4, 5]])
arr2 = np.array([[2, 2, 3], [1, 2, 5]])

arr1 == arr2

arr1 != arr2

arr1 >= arr2

arr1 < arr2

"""Array comparison is frequently used to count the number of equal elements in two arrays using the `sum` method. Remember that `True` evaluates to `1` and `False` evaluates to `0` when booleans are used in arithmetic operations."""

(arr1 == arr2).sum()

"""## Array indexing and slicing

Numpy extends Python's list indexing notation using `[]` to multiple dimensions in an intuitive fashion. You can provide a comma-separated list of indices or ranges to select a specific element or a subarray (also called a slice) from a Numpy array.
"""

arr3 = np.array([
    [[11, 12, 13, 14], 
     [13, 14, 15, 19]], 
    
    [[15, 16, 17, 21], 
     [63, 92, 36, 18]], 
    
    [[98, 32, 81, 23],      
     [17, 18, 19.5, 43]]])

arr3.shape

# Single element
arr3[1, 1, 2]

# Subarray using ranges
arr3[1:, 0:1, :2]

# Mixing indices and ranges
arr3[1:, 1, 3]

# Mixing indices and ranges
arr3[1:, 1, :3]

# Using fewer indices
arr3[1]

# Using fewer indices
arr3[:2, 1]

# Using too many indices
arr3[1,3,2,1]

"""The notation and its results can seem confusing at first, so take your time to experiment and become comfortable with it. Use the cells below to try out some examples of array indexing and slicing, with different combinations of indices and ranges. Here are some more examples demonstrated visually:

<img src="https://scipy-lectures.org/_images/numpy_indexing.png" width="360">
"""









"""## Other ways of creating Numpy arrays

Numpy also provides some handy functions to create arrays of desired shapes with fixed or random values. Check out the [official documentation](https://numpy.org/doc/stable/reference/routines.array-creation.html) or use the `help` function to learn more.
"""

# All zeros
np.zeros((3, 2))

# All ones
np.ones([2, 2, 3])

# Identity matrix
np.eye(3)

# Random vector
np.random.rand(5)

# Random matrix
np.random.randn(2, 3) # rand vs. randn - what's the difference?

# Fixed value
np.full([2, 3], 42)

# Range with start, end and step
np.arange(10, 90, 3)

# Equally spaced numbers in a range
np.linspace(3, 27, 9)

"""### Save and commit

Let's record a snapshot of our work using `jovian.commit`.
"""

# Install the library 
!pip install jovian --upgrade --quiet

import jovian

jovian.commit()

"""## Exercises

Try the following exercises to become familiar with Numpy arrays and practice your skills:

- Assignment on Numpy array functions: https://jovian.ml/aakashns/numpy-array-operations
- (Optional) 100 numpy exercises: https://jovian.ml/aakashns/100-numpy-exercises

## Summary and Further Reading

With this, we complete our discussion of numerical computing with Numpy. We've covered the following topics in this tutorial:

- Going from Python lists to Numpy arrays
- Operating on Numpy arrays
- Benefits of using Numpy arrays over lists
- Multi-dimensional Numpy arrays
- Working with CSV data files
- Arithmetic operations and broadcasting
- Array indexing and slicing
- Other ways of creating Numpy arrays


Check out the following resources for learning more about Numpy:

- Official tutorial: https://numpy.org/devdocs/user/quickstart.html
- Numpy tutorial on W3Schools: https://www.w3schools.com/python/numpy_intro.asp
- Advanced Numpy (exploring the internals): http://scipy-lectures.org/advanced/advanced_numpy/index.html

You are ready to move on to the next tutorial: [Analyzing Tabular Data using Pandas](https://jovian.ai/aakashns/python-pandas-data-analysis).

## Questions for Revision

Try answering the following questions to test your understanding of the topics covered in this notebook:

1. What is a vector?
2. How do you represent vectors using a Python list? Give an example.
3. What is a dot product of two vectors?
4. Write a function to compute the dot product of two vectors.
5. What is Numpy?
6. How do you install Numpy?
7. How do you import the `numpy` module?
8. What does it mean to import a module with an alias? Give an example.
9. What is the commonly used alias for `numpy`?
10. What is a Numpy array?
11. How do you create a Numpy array? Give an example.
12. What is the type of Numpy arrays?
13. How do you access the elements of a Numpy array?
14. How do you compute the dot product of two vectors using Numpy?
15. What happens if you try to compute the dot product of two vectors which have different sizes?
16. How do you compute the element-wise product of two Numpy arrays?
17. How do you compute the sum of all the elements in a Numpy array?
18. What are the benefits of using Numpy arrays over Python lists for operating on numerical data?
19. Why do Numpy array operations have better performance compared to Python functions and loops?
20. Illustrate the performance difference between Numpy array operations and Python loops using an example.
21. What are multi-dimensional Numpy arrays? 
22. Illustrate the creation of Numpy arrays with 2, 3, and 4 dimensions.
23. How do you inspect the number of dimensions and the length along each dimension in a Numpy array?
24. Can the elements of a Numpy array have different data types?
25. How do you check the data type of the elements of a Numpy array?
26. What is the data type of a Numpy array?
27. What is the difference between a matrix and a 2D Numpy array?
28. How do you perform matrix multiplication using Numpy?
29. What is the `@` operator used for in Numpy?
30. What is the CSV file format?
31. How do you read data from a CSV file using Numpy?
32. How do you concatenate two Numpy arrays?
33. What is the purpose of the `axis` argument of `np.concatenate`?
34. When are two Numpy arrays compatible for concatenation?
35. Give an example of two Numpy arrays that can be concatenated.
36. Give an example of two Numpy arrays that cannot be concatenated.
37. What is the purpose of the `np.reshape` function?
38. What does it mean to “reshape” a Numpy array?
39. How do you write a numpy array into a CSV file?
40. Give some examples of Numpy functions for performing mathematical operations.
41. Give some examples of Numpy functions for performing array manipulation.
42. Give some examples of Numpy functions for performing linear algebra.
43. Give some examples of Numpy functions for performing statistical operations.
44. How do you find the right Numpy function for a specific operation or use case?
45. Where can you see a list of all the Numpy array functions and operations?
46. What are the arithmetic operators supported by Numpy arrays? Illustrate with examples.
47. What is array broadcasting? How is it useful? Illustrate with an example.
48. Give some examples of arrays that are compatible for broadcasting?
49. Give some examples of arrays that are not compatible for broadcasting?
50. What are the comparison operators supported by Numpy arrays? Illustrate with examples.
51. How do you access a specific subarray or slice from a Numpy array?
52. Illustrate array indexing and slicing in multi-dimensional Numpy arrays with some examples.
53. How do you create a Numpy array with a given shape containing all zeros?
54. How do you create a Numpy array with a given shape containing all ones?
55. How do you create an identity matrix of a given shape?
56. How do you create a random vector of a given length?
57. How do you create a Numpy array with a given shape with a fixed value for each element?
58. How do you create a Numpy array with a given shape containing randomly initialized elements?
59. What is the difference between `np.random.rand` and `np.random.randn`? Illustrate with examples.
60. What is the difference between `np.arange` and `np.linspace`? Illustrate with examples.
"""

